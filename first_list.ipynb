{
  "nbformat": 4,
  "nbformat_minor": 0,
  "metadata": {
    "colab": {
      "provenance": [],
      "authorship_tag": "ABX9TyOhdECGRA0kr8EvJwBwGT+z",
      "include_colab_link": true
    },
    "kernelspec": {
      "name": "python3",
      "display_name": "Python 3"
    },
    "language_info": {
      "name": "python"
    }
  },
  "cells": [
    {
      "cell_type": "markdown",
      "metadata": {
        "id": "view-in-github",
        "colab_type": "text"
      },
      "source": [
        "<a href=\"https://colab.research.google.com/github/rprabhuraj/first2/blob/master/first_list.ipynb\" target=\"_parent\"><img src=\"https://colab.research.google.com/assets/colab-badge.svg\" alt=\"Open In Colab\"/></a>"
      ]
    },
    {
      "cell_type": "code",
      "execution_count": 22,
      "metadata": {
        "colab": {
          "base_uri": "https://localhost:8080/"
        },
        "id": "WDlJWXlb_dAU",
        "outputId": "ce883304-4944-49bb-8903-e155e611f95e"
      },
      "outputs": [
        {
          "output_type": "stream",
          "name": "stdout",
          "text": [
            "byd\n",
            "chrysler\n",
            "ford\n",
            "gmc\n",
            "honda\n",
            "hyundai\n",
            "kia\n",
            "lucid\n",
            "rivian\n",
            "tesla\n",
            "toyota\n",
            "vw\n",
            "['byd', 'chrysler', 'ford', 'gmc', 'honda', 'hyundai', 'kia', 'lucid', 'rivian', 'tesla', 'toyota', 'vw']\n",
            "['byd', 'chrysler', 'ford', 'gmc', 'honda', 'hyundai', 'kia', 'lucid', 'rivian', 'tesla', 'toyota', 'vw']\n",
            "['byd', 'chrysler', 'ford', 'gmc', 'honda', 'hyundai', 'kia', 'lucid', 'rivian', 'tesla', 'toyota', 'vw']\n",
            "['byd', 'chrysler', 'ford', 'gmc', 'honda', 'hyundai', 'kia', 'lucid', 'rivian', 'tesla', 'toyota', 'vw']\n",
            "['byd', 'chrysler', 'ford', 'gmc', 'honda', 'hyundai', 'kia', 'lucid', 'rivian', 'tesla', 'toyota', 'vw']\n",
            "['byd', 'chrysler', 'ford', 'gmc', 'honda', 'hyundai', 'kia', 'lucid', 'rivian', 'tesla', 'toyota', 'vw']\n",
            "['byd', 'chrysler', 'ford', 'gmc', 'honda', 'hyundai', 'kia', 'lucid', 'rivian', 'tesla', 'toyota', 'vw']\n",
            "['byd', 'chrysler', 'ford', 'gmc', 'honda', 'hyundai', 'kia', 'lucid', 'rivian', 'tesla', 'toyota', 'vw']\n",
            "['byd', 'chrysler', 'ford', 'gmc', 'honda', 'hyundai', 'kia', 'lucid', 'rivian', 'tesla', 'toyota', 'vw']\n",
            "['byd', 'chrysler', 'ford', 'gmc', 'honda', 'hyundai', 'kia', 'lucid', 'rivian', 'tesla', 'toyota', 'vw']\n",
            "['byd', 'chrysler', 'ford', 'gmc', 'honda', 'hyundai', 'kia', 'lucid', 'rivian', 'tesla', 'toyota', 'vw']\n",
            "['byd', 'chrysler', 'ford', 'gmc', 'honda', 'hyundai', 'kia', 'lucid', 'rivian', 'tesla', 'toyota', 'vw']\n"
          ]
        }
      ],
      "source": [
        "cars = ['honda', 'toyota', 'vw', 'hyundai', 'kia', 'gmc', 'ford', 'tesla', 'byd', 'lucid', 'rivian']\n",
        "\n",
        "cars.insert(len(cars), 'chrysler')\n",
        "\n",
        "cars.sort(reverse=False)\n",
        "\n",
        "for car in cars:\n",
        "  print(car)\n",
        "\n",
        "for car in cars:\n",
        "  print(cars)"
      ]
    }
  ]
}